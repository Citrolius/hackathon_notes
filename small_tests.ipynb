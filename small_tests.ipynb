{
 "cells": [
  {
   "cell_type": "code",
   "execution_count": 6,
   "metadata": {},
   "outputs": [
    {
     "name": "stdout",
     "output_type": "stream",
     "text": [
      "/overlap/region/oryza_sativa/3:1278045-1278045:1?feature=variation\n",
      "[{'source': 'EVA', 'alleles': ['G', 'A'], 'feature_type': 'variation', 'assembly_name': 'IRGSP-1.0', 'clinical_significance': [], 'end': 1278045, 'seq_region_name': '3', 'consequence_type': 'intron_variant', 'strand': 1, 'id': 'vcZ26VLVM', 'start': 1278045}]\n",
      "<class 'str'>\n",
      "/overlap/region/oryza_sativa/3:1283193-1283193:1?feature=variation\n",
      "[{'source': 'EVA', 'alleles': ['C', 'T'], 'feature_type': 'variation', 'assembly_name': 'IRGSP-1.0', 'clinical_significance': [], 'end': 1283193, 'seq_region_name': '3', 'consequence_type': 'intron_variant', 'strand': 1, 'id': 'vcZ26VM2W', 'start': 1283193}]\n",
      "<class 'str'>\n",
      "/overlap/region/oryza_sativa/3:1275151-1275151:1?feature=variation\n",
      "[{'source': 'EVA', 'alleles': ['T', 'C'], 'feature_type': 'variation', 'assembly_name': 'IRGSP-1.0', 'clinical_significance': [], 'end': 1275151, 'seq_region_name': '3', 'consequence_type': 'intron_variant', 'strand': 1, 'id': 'vcZ26VLT3', 'start': 1275151}]\n",
      "<class 'str'>\n",
      "/overlap/region/oryza_sativa/3:1286390-1286390:1?feature=variation\n",
      "[{'source': 'EVA', 'alleles': ['G', 'A'], 'feature_type': 'variation', 'assembly_name': 'IRGSP-1.0', 'clinical_significance': [], 'end': 1286390, 'seq_region_name': '3', 'consequence_type': 'intron_variant', 'strand': 1, 'id': 'vcZ26VM71', 'start': 1286390}]\n",
      "<class 'str'>\n",
      "/overlap/region/oryza_sativa/3:1300254-1300254:1?feature=variation\n",
      "[{'source': 'EVA', 'alleles': ['C', 'T'], 'feature_type': 'variation', 'assembly_name': 'IRGSP-1.0', 'clinical_significance': [], 'end': 1300254, 'seq_region_name': '3', 'consequence_type': '5_prime_UTR_variant', 'strand': 1, 'id': 'vcZ26VMLP', 'start': 1300254}]\n",
      "<class 'str'>\n",
      "/overlap/region/oryza_sativa/6:3287871-3287871:1?feature=variation\n",
      "[{'source': 'EVA', 'alleles': ['A', 'T'], 'feature_type': 'variation', 'assembly_name': 'IRGSP-1.0', 'clinical_significance': [], 'end': 3287871, 'seq_region_name': '6', 'consequence_type': 'missense_variant', 'strand': 1, 'id': 'vcZ2AWDWE', 'start': 3287871}]\n",
      "<class 'str'>\n",
      "/overlap/region/oryza_sativa/3:1272815-1272815:1?feature=variation\n",
      "[{'source': 'EVA', 'alleles': ['G', 'A'], 'feature_type': 'variation', 'assembly_name': 'IRGSP-1.0', 'clinical_significance': [], 'end': 1272815, 'seq_region_name': '3', 'consequence_type': 'intron_variant', 'strand': 1, 'id': 'vcZ26VLRH', 'start': 1272815}]\n",
      "<class 'str'>\n"
     ]
    }
   ],
   "source": [
    "#!/usr/bin/python\n",
    "\n",
    "#bring python3 print() into python2\n",
    "from __future__ import print_function\n",
    "import os, math, traceback, datetime, urllib, requests, json, argparse, sys\n",
    "\n",
    "\n",
    "with open(\"Results_filtered_threshold.txt\", \"r\") as fthresh:\n",
    "\tfthresh.readline()\n",
    "\tfor line in fthresh:\n",
    "\t\tcol = line.split(\"\\t\")\n",
    "\t\tchrom = col[1]\n",
    "\t\tbp = col[2]\n",
    "\t\tserver = \"http://rest.ensemblgenomes.org\"\n",
    "\t\text = \"/overlap/region/oryza_sativa/{}:{}-{}:1?feature=variation\".format(chrom, bp, bp)\n",
    "\t\tprint(ext)\n",
    "\n",
    "\t\tr = requests.get(server+ext, headers={ \"Content-Type\" : \"application/json\"})\n",
    "\t\tr.json()\n",
    "\n",
    "\t\tif not r.ok:\n",
    "\t\t\tr.raise_for_status()\n",
    "\t\t\tsys.exit()\n",
    "\n",
    "\t\tdecoded = r.json()\n",
    "\t\tinfo=repr(decoded)\n",
    "\t\tprint(info)\n",
    "\t\tprint(type(info))\n"
   ]
  },
  {
   "cell_type": "code",
   "execution_count": 3,
   "metadata": {},
   "outputs": [
    {
     "name": "stdout",
     "output_type": "stream",
     "text": [
      "[{'source': 'EVA', 'alleles': ['C', 'T'], 'feature_type': 'variation', 'assembly_name': 'IRGSP-1.0', 'clinical_significance': [], 'end': 6532747, 'seq_region_name': '1', 'consequence_type': 'intergenic_variant', 'strand': 1, 'id': 'rs18641341', 'start': 6532747}]\n"
     ]
    }
   ],
   "source": [
    "import requests, sys\n",
    " \n",
    "server = \"http://rest.ensemblgenomes.org\"\n",
    "ext = \"/overlap/region/oryza_sativa/1:6532747-6532747:1?feature=variation\"\n",
    "#change by species, chr:start-end(same):foward vs reverse ? feature is variation\n",
    " \n",
    "r = requests.get(server+ext, headers={ \"Content-Type\" : \"application/json\"})\n",
    " \n",
    "if not r.ok:\n",
    "  r.raise_for_status()\n",
    "  sys.exit()\n",
    " \n",
    "decoded = r.json()\n",
    "print(repr(decoded))"
   ]
  },
  {
   "cell_type": "code",
   "execution_count": null,
   "metadata": {},
   "outputs": [],
   "source": []
  }
 ],
 "metadata": {
  "kernelspec": {
   "display_name": "Python 3",
   "language": "python",
   "name": "python3"
  },
  "language_info": {
   "codemirror_mode": {
    "name": "ipython",
    "version": 3
   },
   "file_extension": ".py",
   "mimetype": "text/x-python",
   "name": "python",
   "nbconvert_exporter": "python",
   "pygments_lexer": "ipython3",
   "version": "3.6.7"
  }
 },
 "nbformat": 4,
 "nbformat_minor": 2
}
