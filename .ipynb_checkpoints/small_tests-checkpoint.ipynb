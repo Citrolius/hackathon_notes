{
 "cells": [
  {
   "cell_type": "code",
   "execution_count": 3,
   "metadata": {},
   "outputs": [
    {
     "name": "stdout",
     "output_type": "stream",
     "text": [
      "intron_variant\n",
      "intron_variant\n",
      "intron_variant\n",
      "intron_variant\n",
      "5_prime_UTR_variant\n",
      "missense_variant\n",
      "intron_variant\n",
      "synonymous_variant\n",
      "upstream_gene_variant\n",
      "intergenic_variant\n",
      "intergenic_variant\n",
      "intergenic_variant\n",
      "intron_variant\n"
     ]
    },
    {
     "ename": "IndexError",
     "evalue": "list index out of range",
     "output_type": "error",
     "traceback": [
      "\u001b[1;31m---------------------------------------------------------------------------\u001b[0m",
      "\u001b[1;31mIndexError\u001b[0m                                Traceback (most recent call last)",
      "\u001b[1;32m<ipython-input-3-20b8dca96add>\u001b[0m in \u001b[0;36m<module>\u001b[1;34m()\u001b[0m\n\u001b[0;32m     23\u001b[0m                         \u001b[0msys\u001b[0m\u001b[1;33m.\u001b[0m\u001b[0mexit\u001b[0m\u001b[1;33m(\u001b[0m\u001b[1;33m)\u001b[0m\u001b[1;33m\u001b[0m\u001b[0m\n\u001b[0;32m     24\u001b[0m \u001b[1;33m\u001b[0m\u001b[0m\n\u001b[1;32m---> 25\u001b[1;33m                 \u001b[0mdata\u001b[0m \u001b[1;33m=\u001b[0m \u001b[0mcontent\u001b[0m\u001b[1;33m[\u001b[0m\u001b[1;36m0\u001b[0m\u001b[1;33m]\u001b[0m\u001b[1;33m\u001b[0m\u001b[0m\n\u001b[0m\u001b[0;32m     26\u001b[0m                 \u001b[1;31m#print(content[0])\u001b[0m\u001b[1;33m\u001b[0m\u001b[1;33m\u001b[0m\u001b[0m\n\u001b[0;32m     27\u001b[0m                 \u001b[1;32mprint\u001b[0m\u001b[1;33m(\u001b[0m\u001b[0mdata\u001b[0m\u001b[1;33m[\u001b[0m\u001b[1;34mu'consequence_type'\u001b[0m\u001b[1;33m]\u001b[0m\u001b[1;33m)\u001b[0m\u001b[1;33m\u001b[0m\u001b[0m\n",
      "\u001b[1;31mIndexError\u001b[0m: list index out of range"
     ]
    }
   ],
   "source": [
    "#!/usr/bin/python\n",
    "\n",
    "#bring python3 print() into python2\n",
    "from __future__ import print_function\n",
    "import os, math, traceback, datetime, urllib, requests, json, argparse, sys\n",
    "\n",
    "\n",
    "with open(\"Results_filtered_threshold.txt\", \"r\") as fthresh:\n",
    "\tfthresh.readline()\n",
    "\tfor line in fthresh:\n",
    "\t\tcol = line.split(\"\\t\")\n",
    "\t\tchrom = col[1]\n",
    "\t\tbp = col[2]\n",
    "\t\tserver = \"http://rest.ensemblgenomes.org\"\n",
    "\t\text = \"/overlap/region/oryza_sativa/{}:{}-{}:1?feature=variation\".format(chrom, bp, bp)\n",
    "\t\t#print(ext)\n",
    "\n",
    "\t\tr = requests.get(server+ext, headers={ \"Content-Type\" : \"application/json\"})\n",
    "\t\tcontent = r.json()\n",
    "\n",
    "\t\tif not r.ok:\n",
    "\t\t\tr.raise_for_status()\n",
    "\t\t\tsys.exit()\n",
    "\n",
    "\t\tdata = content[0]\n",
    "\t\t#print(content[0])\n",
    "\t\tprint(data[u'consequence_type'])"
   ]
  },
  {
   "cell_type": "code",
   "execution_count": 7,
   "metadata": {},
   "outputs": [
    {
     "name": "stdout",
     "output_type": "stream",
     "text": [
      "Os03g0122600\n",
      "Os03g0122600\n",
      "Os03g0122600\n",
      "Os03g0122600\n",
      "Os03g0122600\n",
      "Os06g0164900\n",
      "Os03g0122600\n",
      "Os06g0166100\n"
     ]
    },
    {
     "ename": "IndexError",
     "evalue": "list index out of range",
     "output_type": "error",
     "traceback": [
      "\u001b[1;31m---------------------------------------------------------------------------\u001b[0m",
      "\u001b[1;31mIndexError\u001b[0m                                Traceback (most recent call last)",
      "\u001b[1;32m<ipython-input-7-92023d395e5b>\u001b[0m in \u001b[0;36m<module>\u001b[1;34m()\u001b[0m\n\u001b[0;32m     31\u001b[0m                         \u001b[0msys\u001b[0m\u001b[1;33m.\u001b[0m\u001b[0mexit\u001b[0m\u001b[1;33m(\u001b[0m\u001b[1;33m)\u001b[0m\u001b[1;33m\u001b[0m\u001b[0m\n\u001b[0;32m     32\u001b[0m                 \u001b[1;31m#print(type(content[0]))\u001b[0m\u001b[1;33m\u001b[0m\u001b[1;33m\u001b[0m\u001b[0m\n\u001b[1;32m---> 33\u001b[1;33m                 \u001b[0mdata\u001b[0m\u001b[1;33m=\u001b[0m\u001b[0mcontent\u001b[0m\u001b[1;33m[\u001b[0m\u001b[1;36m0\u001b[0m\u001b[1;33m]\u001b[0m\u001b[1;33m\u001b[0m\u001b[0m\n\u001b[0m\u001b[0;32m     34\u001b[0m                 \u001b[1;32mprint\u001b[0m\u001b[1;33m(\u001b[0m\u001b[0mdata\u001b[0m\u001b[1;33m[\u001b[0m\u001b[1;34mu'gene_id'\u001b[0m\u001b[1;33m]\u001b[0m\u001b[1;33m)\u001b[0m\u001b[1;33m\u001b[0m\u001b[0m\n\u001b[0;32m     35\u001b[0m                 \u001b[1;31m#print(content[0])\u001b[0m\u001b[1;33m\u001b[0m\u001b[1;33m\u001b[0m\u001b[0m\n",
      "\u001b[1;31mIndexError\u001b[0m: list index out of range"
     ]
    }
   ],
   "source": [
    "#!/usr/bin/python\n",
    "\n",
    "#bring python3 print() into python2\n",
    "from __future__ import print_function\n",
    "import os, math, traceback, datetime, urllib, requests, json, argparse, sys\n",
    "\n",
    "\n",
    "with open(\"Results_filtered_threshold.txt\", \"r\") as fthresh:\n",
    "\tfthresh.readline()\n",
    "\tfor line in fthresh:\n",
    "\t\tif line == \"\\n\":\n",
    "\t\t\tcontinue\n",
    "\t\tcol = line.split(\"\\t\")\n",
    "\t\tchrom = col[1]\n",
    "\t\tbp = int(col[2])\n",
    "\t\tstart = bp - 1000\n",
    "\t\tend = bp + 1000\n",
    "\t\tserver = \"http://rest.ensemblgenomes.org\"\n",
    "\t\text = \"/overlap/region/oryza_sativa/{}:{}-{}:1?feature=gene\".format(chrom, start, end)\n",
    "\t\t#print(ext)\n",
    "\n",
    "\t\tr = requests.get(server+ext, headers={ \"Content-Type\" : \"application/json\"})\n",
    "        # r.text is a unicode list\n",
    "\t\t#print(type(r.text))\n",
    "\t\t\n",
    "\t\tcontent=r.json()\n",
    "        #r.json decodes unicode list into list.\n",
    "\n",
    "\t\tif not r.ok:\n",
    "\t\t\tr.raise_for_status()\n",
    "\t\t\tsys.exit()\n",
    "\t\t#print(type(content[0]))\n",
    "\t\tdata=content[0]\n",
    "\t\tprint(data[u'gene_id'])\n",
    "\t\t#print(content[0])"
   ]
  },
  {
   "cell_type": "markdown",
   "metadata": {},
   "source": [
    "The problem is that request json decoder automatically decodes json api into a list object instead of unicode, which makes it very difficult to extract only gene_id from the list."
   ]
  },
  {
   "cell_type": "markdown",
   "metadata": {},
   "source": [
    "## Converting decoded json into dictionary from list"
   ]
  },
  {
   "cell_type": "code",
   "execution_count": 49,
   "metadata": {},
   "outputs": [
    {
     "ename": "ValueError",
     "evalue": "dictionary update sequence element #0 has length 13; 2 is required",
     "output_type": "error",
     "traceback": [
      "\u001b[1;31m---------------------------------------------------------------------------\u001b[0m",
      "\u001b[1;31mValueError\u001b[0m                                Traceback (most recent call last)",
      "\u001b[1;32m<ipython-input-49-ad86b8bf8416>\u001b[0m in \u001b[0;36m<module>\u001b[1;34m()\u001b[0m\n\u001b[1;32m----> 1\u001b[1;33m \u001b[0mdata\u001b[0m\u001b[1;33m=\u001b[0m\u001b[0mdict\u001b[0m\u001b[1;33m(\u001b[0m\u001b[0mcontent\u001b[0m\u001b[1;33m)\u001b[0m\u001b[1;33m\u001b[0m\u001b[0m\n\u001b[0m",
      "\u001b[1;31mValueError\u001b[0m: dictionary update sequence element #0 has length 13; 2 is required"
     ]
    }
   ],
   "source": [
    "data=dict(content)"
   ]
  },
  {
   "cell_type": "markdown",
   "metadata": {},
   "source": [
    "## summary\n",
    "\n",
    "First we do r=request.get(api)\n",
    "Then content = r.json gives us a list with only one element. That one element contains all the information.\n",
    "The one element, content[0] is actually a dictionary. Assign it as data.\n",
    "\n",
    "We get any element inside that dictionary by the keys."
   ]
  }
 ],
 "metadata": {
  "kernelspec": {
   "display_name": "Python 2",
   "language": "python",
   "name": "python2"
  },
  "language_info": {
   "codemirror_mode": {
    "name": "ipython",
    "version": 2
   },
   "file_extension": ".py",
   "mimetype": "text/x-python",
   "name": "python",
   "nbconvert_exporter": "python",
   "pygments_lexer": "ipython2",
   "version": "2.7.15"
  }
 },
 "nbformat": 4,
 "nbformat_minor": 2
}
